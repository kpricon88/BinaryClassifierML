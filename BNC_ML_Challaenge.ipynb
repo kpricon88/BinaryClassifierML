{
 "cells": [
  {
   "cell_type": "code",
   "execution_count": 135,
   "metadata": {},
   "outputs": [],
   "source": [
    "##Imported required Python libraries \n",
    "import pandas as pd \n",
    "from sklearn.preprocessing import LabelEncoder\n",
    "from sklearn.feature_selection import chi2\n",
    "from sklearn.model_selection import train_test_split\n",
    "\n",
    "import numpy as np\n",
    "from xgboost import XGBClassifier\n",
    "from sklearn.metrics import accuracy_score\n",
    "import pickle"
   ]
  },
  {
   "cell_type": "code",
   "execution_count": 136,
   "metadata": {},
   "outputs": [],
   "source": [
    "#reading train dataset from the given csv and drooping NA values\n",
    "df_train = pd.read_csv ('D:\\INTERVIEW_DS_ML\\dataset_train_1.csv')\n",
    "df_train_final = df_train.dropna()"
   ]
  },
  {
   "cell_type": "code",
   "execution_count": 137,
   "metadata": {},
   "outputs": [
    {
     "name": "stderr",
     "output_type": "stream",
     "text": [
      "<ipython-input-137-24eabef6a9c5>:3: SettingWithCopyWarning: \n",
      "A value is trying to be set on a copy of a slice from a DataFrame.\n",
      "Try using .loc[row_indexer,col_indexer] = value instead\n",
      "\n",
      "See the caveats in the documentation: https://pandas.pydata.org/pandas-docs/stable/user_guide/indexing.html#returning-a-view-versus-a-copy\n",
      "  df_train_final['Var5']=enc_train.fit_transform(df_train_final.Var5.values)\n",
      "<ipython-input-137-24eabef6a9c5>:4: SettingWithCopyWarning: \n",
      "A value is trying to be set on a copy of a slice from a DataFrame.\n",
      "Try using .loc[row_indexer,col_indexer] = value instead\n",
      "\n",
      "See the caveats in the documentation: https://pandas.pydata.org/pandas-docs/stable/user_guide/indexing.html#returning-a-view-versus-a-copy\n",
      "  df_train_final['Var6']=enc_train.fit_transform(df_train_final.Var6.values)\n",
      "<ipython-input-137-24eabef6a9c5>:5: SettingWithCopyWarning: \n",
      "A value is trying to be set on a copy of a slice from a DataFrame.\n",
      "Try using .loc[row_indexer,col_indexer] = value instead\n",
      "\n",
      "See the caveats in the documentation: https://pandas.pydata.org/pandas-docs/stable/user_guide/indexing.html#returning-a-view-versus-a-copy\n",
      "  df_train_final['Target']=enc_train.fit_transform(df_train_final.Target.values)\n"
     ]
    },
    {
     "data": {
      "text/html": [
       "<div>\n",
       "<style scoped>\n",
       "    .dataframe tbody tr th:only-of-type {\n",
       "        vertical-align: middle;\n",
       "    }\n",
       "\n",
       "    .dataframe tbody tr th {\n",
       "        vertical-align: top;\n",
       "    }\n",
       "\n",
       "    .dataframe thead th {\n",
       "        text-align: right;\n",
       "    }\n",
       "</style>\n",
       "<table border=\"1\" class=\"dataframe\">\n",
       "  <thead>\n",
       "    <tr style=\"text-align: right;\">\n",
       "      <th></th>\n",
       "      <th>Unnamed: 0</th>\n",
       "      <th>Var1</th>\n",
       "      <th>Var2</th>\n",
       "      <th>Var3</th>\n",
       "      <th>Var4</th>\n",
       "      <th>Var5</th>\n",
       "      <th>Var6</th>\n",
       "      <th>Var7</th>\n",
       "      <th>Var8</th>\n",
       "      <th>Var9</th>\n",
       "      <th>...</th>\n",
       "      <th>Var12</th>\n",
       "      <th>Var13</th>\n",
       "      <th>Var14</th>\n",
       "      <th>Var15</th>\n",
       "      <th>Var16</th>\n",
       "      <th>Var17</th>\n",
       "      <th>Var18</th>\n",
       "      <th>Var19</th>\n",
       "      <th>Var20</th>\n",
       "      <th>Target</th>\n",
       "    </tr>\n",
       "  </thead>\n",
       "  <tbody>\n",
       "    <tr>\n",
       "      <th>0</th>\n",
       "      <td>1</td>\n",
       "      <td>K1</td>\n",
       "      <td>128.0</td>\n",
       "      <td>415.0</td>\n",
       "      <td>01dc820b1aa6175cef997a09f88da685</td>\n",
       "      <td>0</td>\n",
       "      <td>1</td>\n",
       "      <td>25.0</td>\n",
       "      <td>265.1</td>\n",
       "      <td>110.0</td>\n",
       "      <td>...</td>\n",
       "      <td>99.0</td>\n",
       "      <td>16.78</td>\n",
       "      <td>244.7</td>\n",
       "      <td>91.0</td>\n",
       "      <td>11.01</td>\n",
       "      <td>10.0</td>\n",
       "      <td>3.0</td>\n",
       "      <td>2.70</td>\n",
       "      <td>1.0</td>\n",
       "      <td>0</td>\n",
       "    </tr>\n",
       "    <tr>\n",
       "      <th>2</th>\n",
       "      <td>3</td>\n",
       "      <td>N5</td>\n",
       "      <td>137.0</td>\n",
       "      <td>415.0</td>\n",
       "      <td>8b5d5b1825d00c99b28cd8464215739b</td>\n",
       "      <td>0</td>\n",
       "      <td>0</td>\n",
       "      <td>0.0</td>\n",
       "      <td>243.4</td>\n",
       "      <td>114.0</td>\n",
       "      <td>...</td>\n",
       "      <td>110.0</td>\n",
       "      <td>10.30</td>\n",
       "      <td>162.6</td>\n",
       "      <td>104.0</td>\n",
       "      <td>7.32</td>\n",
       "      <td>12.2</td>\n",
       "      <td>5.0</td>\n",
       "      <td>3.29</td>\n",
       "      <td>0.0</td>\n",
       "      <td>0</td>\n",
       "    </tr>\n",
       "    <tr>\n",
       "      <th>4</th>\n",
       "      <td>5</td>\n",
       "      <td>O2</td>\n",
       "      <td>75.0</td>\n",
       "      <td>415.0</td>\n",
       "      <td>ffd5bfdb4243cbe84b2e1fbabaac2d2a</td>\n",
       "      <td>1</td>\n",
       "      <td>0</td>\n",
       "      <td>0.0</td>\n",
       "      <td>166.7</td>\n",
       "      <td>113.0</td>\n",
       "      <td>...</td>\n",
       "      <td>122.0</td>\n",
       "      <td>12.61</td>\n",
       "      <td>186.9</td>\n",
       "      <td>121.0</td>\n",
       "      <td>8.41</td>\n",
       "      <td>10.1</td>\n",
       "      <td>3.0</td>\n",
       "      <td>2.73</td>\n",
       "      <td>3.0</td>\n",
       "      <td>0</td>\n",
       "    </tr>\n",
       "    <tr>\n",
       "      <th>5</th>\n",
       "      <td>6</td>\n",
       "      <td>A2</td>\n",
       "      <td>118.0</td>\n",
       "      <td>510.0</td>\n",
       "      <td>25065790aca03b4476e8c50ad9dbbec6</td>\n",
       "      <td>1</td>\n",
       "      <td>0</td>\n",
       "      <td>0.0</td>\n",
       "      <td>223.4</td>\n",
       "      <td>98.0</td>\n",
       "      <td>...</td>\n",
       "      <td>101.0</td>\n",
       "      <td>18.75</td>\n",
       "      <td>203.9</td>\n",
       "      <td>118.0</td>\n",
       "      <td>9.18</td>\n",
       "      <td>6.3</td>\n",
       "      <td>6.0</td>\n",
       "      <td>1.70</td>\n",
       "      <td>0.0</td>\n",
       "      <td>0</td>\n",
       "    </tr>\n",
       "    <tr>\n",
       "      <th>7</th>\n",
       "      <td>8</td>\n",
       "      <td>M6</td>\n",
       "      <td>147.0</td>\n",
       "      <td>415.0</td>\n",
       "      <td>52b28dc642bfb9ab765d4df0e7553c67</td>\n",
       "      <td>1</td>\n",
       "      <td>0</td>\n",
       "      <td>0.0</td>\n",
       "      <td>157.0</td>\n",
       "      <td>79.0</td>\n",
       "      <td>...</td>\n",
       "      <td>94.0</td>\n",
       "      <td>8.76</td>\n",
       "      <td>211.8</td>\n",
       "      <td>96.0</td>\n",
       "      <td>9.53</td>\n",
       "      <td>7.1</td>\n",
       "      <td>6.0</td>\n",
       "      <td>1.92</td>\n",
       "      <td>0.0</td>\n",
       "      <td>0</td>\n",
       "    </tr>\n",
       "  </tbody>\n",
       "</table>\n",
       "<p>5 rows × 22 columns</p>\n",
       "</div>"
      ],
      "text/plain": [
       "   Unnamed: 0 Var1   Var2   Var3                              Var4  Var5  \\\n",
       "0           1   K1  128.0  415.0  01dc820b1aa6175cef997a09f88da685     0   \n",
       "2           3   N5  137.0  415.0  8b5d5b1825d00c99b28cd8464215739b     0   \n",
       "4           5   O2   75.0  415.0  ffd5bfdb4243cbe84b2e1fbabaac2d2a     1   \n",
       "5           6   A2  118.0  510.0  25065790aca03b4476e8c50ad9dbbec6     1   \n",
       "7           8   M6  147.0  415.0  52b28dc642bfb9ab765d4df0e7553c67     1   \n",
       "\n",
       "   Var6  Var7   Var8   Var9  ...  Var12  Var13  Var14  Var15  Var16  Var17  \\\n",
       "0     1  25.0  265.1  110.0  ...   99.0  16.78  244.7   91.0  11.01   10.0   \n",
       "2     0   0.0  243.4  114.0  ...  110.0  10.30  162.6  104.0   7.32   12.2   \n",
       "4     0   0.0  166.7  113.0  ...  122.0  12.61  186.9  121.0   8.41   10.1   \n",
       "5     0   0.0  223.4   98.0  ...  101.0  18.75  203.9  118.0   9.18    6.3   \n",
       "7     0   0.0  157.0   79.0  ...   94.0   8.76  211.8   96.0   9.53    7.1   \n",
       "\n",
       "   Var18  Var19  Var20  Target  \n",
       "0    3.0   2.70    1.0       0  \n",
       "2    5.0   3.29    0.0       0  \n",
       "4    3.0   2.73    3.0       0  \n",
       "5    6.0   1.70    0.0       0  \n",
       "7    6.0   1.92    0.0       0  \n",
       "\n",
       "[5 rows x 22 columns]"
      ]
     },
     "execution_count": 137,
     "metadata": {},
     "output_type": "execute_result"
    }
   ],
   "source": [
    "#Applied label encoding variable for \"yes\"/ \"no\" and for target variables\n",
    "enc_train = LabelEncoder()\n",
    "df_train_final['Var5']=enc_train.fit_transform(df_train_final.Var5.values)\n",
    "df_train_final['Var6']=enc_train.fit_transform(df_train_final.Var6.values)\n",
    "df_train_final['Target']=enc_train.fit_transform(df_train_final.Target.values)\n",
    "df_train_final.head()"
   ]
  },
  {
   "cell_type": "code",
   "execution_count": null,
   "metadata": {},
   "outputs": [],
   "source": []
  },
  {
   "cell_type": "code",
   "execution_count": 138,
   "metadata": {},
   "outputs": [],
   "source": [
    "#Defining independent and dependent variables from the data set\n",
    "independent_columns=list(df_train_final.columns)\n",
    "independent_columns.remove('Target')\n",
    "independent_columns.remove('Var1')\n",
    "independent_columns.remove('Var4')\n",
    "dependent_columns=['Target']"
   ]
  },
  {
   "cell_type": "code",
   "execution_count": 139,
   "metadata": {},
   "outputs": [],
   "source": [
    "#Feature selection using chisquare and find p values \n",
    "X_train,X_test,y_train,y_test=train_test_split(df_train_final[independent_columns],\n",
    "                                              df_train_final[dependent_columns],test_size=0.2,random_state=100)\n",
    "ftr_p_value=chi2(X_train,y_train)"
   ]
  },
  {
   "cell_type": "code",
   "execution_count": 140,
   "metadata": {},
   "outputs": [],
   "source": [
    "#Chi square continuation for feature selction by choosing p values from array\n",
    "p_values=pd.Series(ftr_p_value[1])\n",
    "p_values.index=X_train.columns\n",
    "final_features=p_values.sort_index(ascending=False).head(10)\n",
    "features_df=pd.DataFrame(final_features,columns=['Var'])"
   ]
  },
  {
   "cell_type": "code",
   "execution_count": 141,
   "metadata": {},
   "outputs": [
    {
     "data": {
      "text/plain": [
       "['Var9',\n",
       " 'Var8',\n",
       " 'Var7',\n",
       " 'Var6',\n",
       " 'Var5',\n",
       " 'Var3',\n",
       " 'Var20',\n",
       " 'Var2',\n",
       " 'Var19',\n",
       " 'Var18']"
      ]
     },
     "execution_count": 141,
     "metadata": {},
     "output_type": "execute_result"
    }
   ],
   "source": [
    "#filtered final columns post feature selection \n",
    "list_f_column=list(features_df.index)\n",
    "list_f_column"
   ]
  },
  {
   "cell_type": "code",
   "execution_count": 142,
   "metadata": {},
   "outputs": [],
   "source": [
    "#Train and test again using feature selected columns\n",
    "X_train,X_test,y_train,y_test=train_test_split(df_train_final[list_f_column],\n",
    "                                              df_train_final[dependent_columns],test_size=0.2,random_state=100)"
   ]
  },
  {
   "cell_type": "code",
   "execution_count": 143,
   "metadata": {},
   "outputs": [
    {
     "name": "stdout",
     "output_type": "stream",
     "text": [
      "[14:34:47] WARNING: C:/Users/Administrator/workspace/xgboost-win64_release_1.5.0/src/learner.cc:1115: Starting in XGBoost 1.3.0, the default evaluation metric used with the objective 'binary:logistic' was changed from 'error' to 'logloss'. Explicitly set eval_metric if you'd like to restore the old behavior.\n"
     ]
    },
    {
     "name": "stderr",
     "output_type": "stream",
     "text": [
      "D:\\BITS_PILANI\\Anaconda\\lib\\site-packages\\xgboost\\sklearn.py:1224: UserWarning: The use of label encoder in XGBClassifier is deprecated and will be removed in a future release. To remove this warning, do the following: 1) Pass option use_label_encoder=False when constructing XGBClassifier object; and 2) Encode your labels (y) as integers starting with 0, i.e. 0, 1, 2, ..., [num_class - 1].\n",
      "  warnings.warn(label_encoder_deprecation_msg, UserWarning)\n",
      "D:\\BITS_PILANI\\Anaconda\\lib\\site-packages\\sklearn\\utils\\validation.py:72: DataConversionWarning: A column-vector y was passed when a 1d array was expected. Please change the shape of y to (n_samples, ), for example using ravel().\n",
      "  return f(**kwargs)\n"
     ]
    },
    {
     "data": {
      "text/plain": [
       "XGBClassifier(base_score=0.5, booster='gbtree', colsample_bylevel=1,\n",
       "              colsample_bynode=1, colsample_bytree=1, enable_categorical=False,\n",
       "              gamma=0, gpu_id=-1, importance_type=None,\n",
       "              interaction_constraints='', learning_rate=0.300000012,\n",
       "              max_delta_step=0, max_depth=6, min_child_weight=1, missing=nan,\n",
       "              monotone_constraints='()', n_estimators=100, n_jobs=8,\n",
       "              num_parallel_tree=1, predictor='auto', random_state=0,\n",
       "              reg_alpha=0, reg_lambda=1, scale_pos_weight=1, subsample=1,\n",
       "              tree_method='exact', validate_parameters=1, verbosity=None)"
      ]
     },
     "execution_count": 143,
     "metadata": {},
     "output_type": "execute_result"
    }
   ],
   "source": [
    "# fit model with training data by applying XGboost Classifier algo\n",
    "crdts_model = XGBClassifier()\n",
    "crdts_model.fit(X_train, y_train)"
   ]
  },
  {
   "cell_type": "code",
   "execution_count": 144,
   "metadata": {},
   "outputs": [],
   "source": [
    "# make predictions for test data\n",
    "y_pred = crdts_model.predict(X_test)\n",
    "crdts_predictions = [round(value) for value in y_pred]"
   ]
  },
  {
   "cell_type": "code",
   "execution_count": 145,
   "metadata": {},
   "outputs": [
    {
     "name": "stdout",
     "output_type": "stream",
     "text": [
      "Credit Suisse model Accuracy: 91.84%\n"
     ]
    }
   ],
   "source": [
    "# evaluate predictions\n",
    "crdts_accuracy = accuracy_score(y_test, crdts_predictions)\n",
    "print(\"Credit Suisse model Accuracy: %.2f%%\" % (accuracy * 100.0))"
   ]
  },
  {
   "cell_type": "code",
   "execution_count": 146,
   "metadata": {},
   "outputs": [],
   "source": [
    "# save the model to disk using pickle\n",
    "crdts_filename = 'D:\\INTERVIEW_DS_ML\\BNCModel.sav'\n",
    "pickle.dump(model, open(crdts_filename, 'wb'))"
   ]
  },
  {
   "cell_type": "code",
   "execution_count": 147,
   "metadata": {},
   "outputs": [],
   "source": [
    "# load the model from disk\n",
    "crdts_loaded_model = pickle.load(open(crdts_filename, 'rb'))\n"
   ]
  },
  {
   "cell_type": "code",
   "execution_count": 148,
   "metadata": {},
   "outputs": [
    {
     "name": "stderr",
     "output_type": "stream",
     "text": [
      "<ipython-input-148-9ef94614a493>:4: SettingWithCopyWarning: \n",
      "A value is trying to be set on a copy of a slice from a DataFrame.\n",
      "Try using .loc[row_indexer,col_indexer] = value instead\n",
      "\n",
      "See the caveats in the documentation: https://pandas.pydata.org/pandas-docs/stable/user_guide/indexing.html#returning-a-view-versus-a-copy\n",
      "  df_test_final['Var5']=enc_train.fit_transform(df_test_final.Var5.values)\n",
      "<ipython-input-148-9ef94614a493>:5: SettingWithCopyWarning: \n",
      "A value is trying to be set on a copy of a slice from a DataFrame.\n",
      "Try using .loc[row_indexer,col_indexer] = value instead\n",
      "\n",
      "See the caveats in the documentation: https://pandas.pydata.org/pandas-docs/stable/user_guide/indexing.html#returning-a-view-versus-a-copy\n",
      "  df_test_final['Var6']=enc_train.fit_transform(df_test_final.Var6.values)\n",
      "<ipython-input-148-9ef94614a493>:6: SettingWithCopyWarning: \n",
      "A value is trying to be set on a copy of a slice from a DataFrame.\n",
      "Try using .loc[row_indexer,col_indexer] = value instead\n",
      "\n",
      "See the caveats in the documentation: https://pandas.pydata.org/pandas-docs/stable/user_guide/indexing.html#returning-a-view-versus-a-copy\n",
      "  df_test_final['Target']=enc_train.fit_transform(df_test_final.Target.values)\n"
     ]
    }
   ],
   "source": [
    "#reading test data from the given csv and drop NA values as well and encode relevant values\n",
    "df_testdata = pd.read_csv ('D:\\INTERVIEW_DS_ML\\dataset_test_1.csv')\n",
    "df_test_final = df_testdata.dropna()\n",
    "df_test_final['Var5']=enc_train.fit_transform(df_test_final.Var5.values)\n",
    "df_test_final['Var6']=enc_train.fit_transform(df_test_final.Var6.values)\n",
    "df_test_final['Target']=enc_train.fit_transform(df_test_final.Target.values)"
   ]
  },
  {
   "cell_type": "code",
   "execution_count": 149,
   "metadata": {},
   "outputs": [],
   "source": [
    "#Apply feature selected columns in test data \n",
    "df_test_final_X=df_test_final[list_f_column]"
   ]
  },
  {
   "cell_type": "code",
   "execution_count": 150,
   "metadata": {},
   "outputs": [],
   "source": [
    "y_final_pred = crdts_model.predict(df_test_final_X)"
   ]
  },
  {
   "cell_type": "code",
   "execution_count": 151,
   "metadata": {},
   "outputs": [
    {
     "name": "stdout",
     "output_type": "stream",
     "text": [
      "[0 0 0 0 0 0 0 0 0 0 0 0 0 0 1 0 0 0 0 0 0 0 0 0 0 1 0 0 0 0 0 0 0 0 0 0 1\n",
      " 0 0 0 1 1 0 0 1 0 0 0 0 0 0 1 0 0 0 0 0 0 0 0 0 0 0 0 0 1 0 0 0 0 0 0 0 0\n",
      " 0 0 1 0 0 0 0 0 0 0 0 0 0 0 0 0 0 0 0 1 0 0 1 0 0 0 0 0 0 0 1 0 0 0]\n"
     ]
    }
   ],
   "source": [
    "print(y_final_pred)"
   ]
  },
  {
   "cell_type": "code",
   "execution_count": 152,
   "metadata": {},
   "outputs": [
    {
     "name": "stderr",
     "output_type": "stream",
     "text": [
      "<ipython-input-152-a1ab592b47d3>:2: SettingWithCopyWarning: \n",
      "A value is trying to be set on a copy of a slice from a DataFrame.\n",
      "Try using .loc[row_indexer,col_indexer] = value instead\n",
      "\n",
      "See the caveats in the documentation: https://pandas.pydata.org/pandas-docs/stable/user_guide/indexing.html#returning-a-view-versus-a-copy\n",
      "  df_test_final['Predicted Value']=y_final_pred\n",
      "<ipython-input-152-a1ab592b47d3>:3: SettingWithCopyWarning: \n",
      "A value is trying to be set on a copy of a slice from a DataFrame.\n",
      "Try using .loc[row_indexer,col_indexer] = value instead\n",
      "\n",
      "See the caveats in the documentation: https://pandas.pydata.org/pandas-docs/stable/user_guide/indexing.html#returning-a-view-versus-a-copy\n",
      "  df_test_final['Predicted Value']=np.where(df_test_final['Predicted Value']==0,'false','true')\n",
      "<ipython-input-152-a1ab592b47d3>:4: SettingWithCopyWarning: \n",
      "A value is trying to be set on a copy of a slice from a DataFrame.\n",
      "Try using .loc[row_indexer,col_indexer] = value instead\n",
      "\n",
      "See the caveats in the documentation: https://pandas.pydata.org/pandas-docs/stable/user_guide/indexing.html#returning-a-view-versus-a-copy\n",
      "  df_test_final['Target']=np.where(df_test_final['Target']==0,'false','true')\n"
     ]
    },
    {
     "data": {
      "text/html": [
       "<div>\n",
       "<style scoped>\n",
       "    .dataframe tbody tr th:only-of-type {\n",
       "        vertical-align: middle;\n",
       "    }\n",
       "\n",
       "    .dataframe tbody tr th {\n",
       "        vertical-align: top;\n",
       "    }\n",
       "\n",
       "    .dataframe thead th {\n",
       "        text-align: right;\n",
       "    }\n",
       "</style>\n",
       "<table border=\"1\" class=\"dataframe\">\n",
       "  <thead>\n",
       "    <tr style=\"text-align: right;\">\n",
       "      <th></th>\n",
       "      <th>Unnamed: 0</th>\n",
       "      <th>Var1</th>\n",
       "      <th>Var2</th>\n",
       "      <th>Var3</th>\n",
       "      <th>Var4</th>\n",
       "      <th>Var5</th>\n",
       "      <th>Var6</th>\n",
       "      <th>Var7</th>\n",
       "      <th>Var8</th>\n",
       "      <th>Var9</th>\n",
       "      <th>...</th>\n",
       "      <th>Var13</th>\n",
       "      <th>Var14</th>\n",
       "      <th>Var15</th>\n",
       "      <th>Var16</th>\n",
       "      <th>Var17</th>\n",
       "      <th>Var18</th>\n",
       "      <th>Var19</th>\n",
       "      <th>Var20</th>\n",
       "      <th>Target</th>\n",
       "      <th>Predicted Value</th>\n",
       "    </tr>\n",
       "  </thead>\n",
       "  <tbody>\n",
       "    <tr>\n",
       "      <th>0</th>\n",
       "      <td>1</td>\n",
       "      <td>C2</td>\n",
       "      <td>71.0</td>\n",
       "      <td>415.0</td>\n",
       "      <td>0731015efe10b09a50d71bb517c18920</td>\n",
       "      <td>0</td>\n",
       "      <td>0</td>\n",
       "      <td>0.0</td>\n",
       "      <td>211.2</td>\n",
       "      <td>70.0</td>\n",
       "      <td>...</td>\n",
       "      <td>21.48</td>\n",
       "      <td>225.8</td>\n",
       "      <td>104.0</td>\n",
       "      <td>10.16</td>\n",
       "      <td>12.3</td>\n",
       "      <td>3.0</td>\n",
       "      <td>3.32</td>\n",
       "      <td>0.0</td>\n",
       "      <td>false</td>\n",
       "      <td>false</td>\n",
       "    </tr>\n",
       "    <tr>\n",
       "      <th>2</th>\n",
       "      <td>3</td>\n",
       "      <td>N5</td>\n",
       "      <td>87.0</td>\n",
       "      <td>510.0</td>\n",
       "      <td>41e0f4c5ca086d6e7eb5cfed9d74c4d0</td>\n",
       "      <td>0</td>\n",
       "      <td>0</td>\n",
       "      <td>0.0</td>\n",
       "      <td>223.2</td>\n",
       "      <td>109.0</td>\n",
       "      <td>...</td>\n",
       "      <td>10.84</td>\n",
       "      <td>289.3</td>\n",
       "      <td>83.0</td>\n",
       "      <td>13.02</td>\n",
       "      <td>14.5</td>\n",
       "      <td>4.0</td>\n",
       "      <td>3.92</td>\n",
       "      <td>3.0</td>\n",
       "      <td>false</td>\n",
       "      <td>false</td>\n",
       "    </tr>\n",
       "    <tr>\n",
       "      <th>5</th>\n",
       "      <td>6</td>\n",
       "      <td>W3</td>\n",
       "      <td>95.0</td>\n",
       "      <td>415.0</td>\n",
       "      <td>6344244fd70aa4433b6ddf8c966b7041</td>\n",
       "      <td>0</td>\n",
       "      <td>0</td>\n",
       "      <td>0.0</td>\n",
       "      <td>134.4</td>\n",
       "      <td>104.0</td>\n",
       "      <td>...</td>\n",
       "      <td>12.95</td>\n",
       "      <td>236.5</td>\n",
       "      <td>80.0</td>\n",
       "      <td>10.64</td>\n",
       "      <td>9.4</td>\n",
       "      <td>3.0</td>\n",
       "      <td>2.54</td>\n",
       "      <td>1.0</td>\n",
       "      <td>false</td>\n",
       "      <td>false</td>\n",
       "    </tr>\n",
       "    <tr>\n",
       "      <th>7</th>\n",
       "      <td>8</td>\n",
       "      <td>O1</td>\n",
       "      <td>66.0</td>\n",
       "      <td>415.0</td>\n",
       "      <td>8e9ec27462e9ddaeedb264e5933b8713</td>\n",
       "      <td>0</td>\n",
       "      <td>0</td>\n",
       "      <td>0.0</td>\n",
       "      <td>170.5</td>\n",
       "      <td>103.0</td>\n",
       "      <td>...</td>\n",
       "      <td>21.62</td>\n",
       "      <td>197.3</td>\n",
       "      <td>138.0</td>\n",
       "      <td>8.88</td>\n",
       "      <td>10.5</td>\n",
       "      <td>2.0</td>\n",
       "      <td>2.84</td>\n",
       "      <td>2.0</td>\n",
       "      <td>false</td>\n",
       "      <td>false</td>\n",
       "    </tr>\n",
       "    <tr>\n",
       "      <th>9</th>\n",
       "      <td>10</td>\n",
       "      <td>M2</td>\n",
       "      <td>204.0</td>\n",
       "      <td>510.0</td>\n",
       "      <td>fdbe535b7c3852be7f8f635235c6194a</td>\n",
       "      <td>0</td>\n",
       "      <td>0</td>\n",
       "      <td>0.0</td>\n",
       "      <td>205.2</td>\n",
       "      <td>145.0</td>\n",
       "      <td>...</td>\n",
       "      <td>13.16</td>\n",
       "      <td>191.4</td>\n",
       "      <td>77.0</td>\n",
       "      <td>8.61</td>\n",
       "      <td>14.1</td>\n",
       "      <td>5.0</td>\n",
       "      <td>3.81</td>\n",
       "      <td>3.0</td>\n",
       "      <td>false</td>\n",
       "      <td>false</td>\n",
       "    </tr>\n",
       "  </tbody>\n",
       "</table>\n",
       "<p>5 rows × 23 columns</p>\n",
       "</div>"
      ],
      "text/plain": [
       "   Unnamed: 0 Var1   Var2   Var3                              Var4  Var5  \\\n",
       "0           1   C2   71.0  415.0  0731015efe10b09a50d71bb517c18920     0   \n",
       "2           3   N5   87.0  510.0  41e0f4c5ca086d6e7eb5cfed9d74c4d0     0   \n",
       "5           6   W3   95.0  415.0  6344244fd70aa4433b6ddf8c966b7041     0   \n",
       "7           8   O1   66.0  415.0  8e9ec27462e9ddaeedb264e5933b8713     0   \n",
       "9          10   M2  204.0  510.0  fdbe535b7c3852be7f8f635235c6194a     0   \n",
       "\n",
       "   Var6  Var7   Var8   Var9  ...  Var13  Var14  Var15  Var16  Var17  Var18  \\\n",
       "0     0   0.0  211.2   70.0  ...  21.48  225.8  104.0  10.16   12.3    3.0   \n",
       "2     0   0.0  223.2  109.0  ...  10.84  289.3   83.0  13.02   14.5    4.0   \n",
       "5     0   0.0  134.4  104.0  ...  12.95  236.5   80.0  10.64    9.4    3.0   \n",
       "7     0   0.0  170.5  103.0  ...  21.62  197.3  138.0   8.88   10.5    2.0   \n",
       "9     0   0.0  205.2  145.0  ...  13.16  191.4   77.0   8.61   14.1    5.0   \n",
       "\n",
       "   Var19  Var20  Target  Predicted Value  \n",
       "0   3.32    0.0   false            false  \n",
       "2   3.92    3.0   false            false  \n",
       "5   2.54    1.0   false            false  \n",
       "7   2.84    2.0   false            false  \n",
       "9   3.81    3.0   false            false  \n",
       "\n",
       "[5 rows x 23 columns]"
      ]
     },
     "execution_count": 152,
     "metadata": {},
     "output_type": "execute_result"
    }
   ],
   "source": [
    "#Assign predicted values and traget to the test data column and decode the same\n",
    "df_test_final['Predicted Value']=y_final_pred\n",
    "df_test_final['Predicted Value']=np.where(df_test_final['Predicted Value']==0,'false','true')\n",
    "df_test_final['Target']=np.where(df_test_final['Target']==0,'false','true')\n",
    "df_test_final.head()"
   ]
  },
  {
   "cell_type": "code",
   "execution_count": 153,
   "metadata": {},
   "outputs": [],
   "source": [
    "#Save the final results to a CSV \n",
    "df_test_final.to_csv(r'D:\\INTERVIEW_DS_ML\\BNCFinalResults.csv')"
   ]
  }
 ],
 "metadata": {
  "kernelspec": {
   "display_name": "Python 3",
   "language": "python",
   "name": "python3"
  },
  "language_info": {
   "codemirror_mode": {
    "name": "ipython",
    "version": 3
   },
   "file_extension": ".py",
   "mimetype": "text/x-python",
   "name": "python",
   "nbconvert_exporter": "python",
   "pygments_lexer": "ipython3",
   "version": "3.8.5"
  }
 },
 "nbformat": 4,
 "nbformat_minor": 4
}
